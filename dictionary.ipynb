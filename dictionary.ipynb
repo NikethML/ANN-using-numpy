{
  "nbformat": 4,
  "nbformat_minor": 0,
  "metadata": {
    "colab": {
      "provenance": [],
      "authorship_tag": "ABX9TyMAzmwMzxuSSlzuRZ7x4EJ3",
      "include_colab_link": true
    },
    "kernelspec": {
      "name": "python3",
      "display_name": "Python 3"
    },
    "language_info": {
      "name": "python"
    }
  },
  "cells": [
    {
      "cell_type": "markdown",
      "metadata": {
        "id": "view-in-github",
        "colab_type": "text"
      },
      "source": [
        "<a href=\"https://colab.research.google.com/github/NikethML/ANN-using-numpy/blob/master/dictionary.ipynb\" target=\"_parent\"><img src=\"https://colab.research.google.com/assets/colab-badge.svg\" alt=\"Open In Colab\"/></a>"
      ]
    },
    {
      "cell_type": "markdown",
      "source": [
        "Q1: Write a Python script to add a key to a dictionary.\n",
        "Sample Dictionary : {0: 10, 1: 20}\n",
        "Expected Result : {0: 10, 1: 20, 2: 30}"
      ],
      "metadata": {
        "id": "LIsnHzsVrl7l"
      }
    },
    {
      "cell_type": "code",
      "source": [
        "d = {0:10, 1:20}\n",
        "print(d)\n",
        "d.update({2:30})\n",
        "print(d)"
      ],
      "metadata": {
        "colab": {
          "base_uri": "https://localhost:8080/"
        },
        "id": "yW_Knn2yrlZO",
        "outputId": "574da461-fe50-4d3c-e3af-ba042fa02cd4"
      },
      "execution_count": 1,
      "outputs": [
        {
          "output_type": "stream",
          "name": "stdout",
          "text": [
            "{0: 10, 1: 20}\n",
            "{0: 10, 1: 20, 2: 30}\n"
          ]
        }
      ]
    },
    {
      "cell_type": "markdown",
      "source": [
        "Q2: Write a Python script to check whether a given key already exists in a dictionary"
      ],
      "metadata": {
        "id": "-ADthuB2r4TM"
      }
    },
    {
      "cell_type": "code",
      "execution_count": 4,
      "metadata": {
        "colab": {
          "base_uri": "https://localhost:8080/"
        },
        "id": "FsDZ-Il2rbpw",
        "outputId": "f4941beb-b2c5-491f-9f94-9f7282cf1dcf"
      },
      "outputs": [
        {
          "output_type": "stream",
          "name": "stdout",
          "text": [
            "Key is present in the dictionary\n",
            "Key is not present in the dictionary\n"
          ]
        }
      ],
      "source": [
        "d = {1: 10, 2: 20, 3: 30, 4: 40, 5: 50, 6: 60}\n",
        "def keyPresent(x):\n",
        "  if x in d:\n",
        "      print('Key is present in the dictionary')\n",
        "  else:\n",
        "      print('Key is not present in the dictionary')\n",
        "keyPresent(5)\n",
        "keyPresent(9)"
      ]
    },
    {
      "cell_type": "markdown",
      "source": [
        "Q3: Write a Python program to remove a key from a dictionary"
      ],
      "metadata": {
        "id": "6OLiD7ElsbT7"
      }
    },
    {
      "cell_type": "code",
      "source": [
        "dict123 = {'a':10,'b':20,'c':30,'d':40}\n",
        "print(Dict123)\n",
        "if 'a' in dict123: \n",
        "    del dict123['a']\n",
        "print(dict123)"
      ],
      "metadata": {
        "colab": {
          "base_uri": "https://localhost:8080/"
        },
        "id": "vikFkg-ssavD",
        "outputId": "cee29c79-b228-4bdc-be08-5e3e3adac86f"
      },
      "execution_count": 7,
      "outputs": [
        {
          "output_type": "stream",
          "name": "stdout",
          "text": [
            "{'a': 10, 'b': 20, 'c': 30, 'd': 40}\n",
            "{'b': 20, 'c': 30, 'd': 40}\n"
          ]
        }
      ]
    },
    {
      "cell_type": "markdown",
      "source": [
        "Q4: Write a python program\n",
        "Step1: declare an empty dictionary\n",
        "Step2:add as many keys as you want"
      ],
      "metadata": {
        "id": "UrJvCMl9s2s4"
      }
    },
    {
      "cell_type": "code",
      "source": [
        "myDictionary = {}\n",
        "\n",
        "print(\" empty dictionary:\",myDictionary)\n",
        "\n",
        "print(type(myDictionary))\n",
        "\n",
        "## Add keys\n",
        "myDictionary['a'] = 100  # existing key, so overwrite\n",
        "myDictionary['c'] = 3  # new key, so add\n",
        "myDictionary['d'] = 4\n",
        "print(f'added new values {myDictionary}')\n"
      ],
      "metadata": {
        "colab": {
          "base_uri": "https://localhost:8080/"
        },
        "id": "QV_Pqy6msGH-",
        "outputId": "8737e37c-00eb-4c6f-ee1a-ff1e68f1e297"
      },
      "execution_count": 16,
      "outputs": [
        {
          "output_type": "stream",
          "name": "stdout",
          "text": [
            " empty dictionary: {}\n",
            "<class 'dict'>\n",
            "added new values {'a': 100, 'c': 3, 'd': 4}\n"
          ]
        }
      ]
    },
    {
      "cell_type": "markdown",
      "source": [
        "Q5: Create a dictionary and store different keys with values and after creation and new key value\n",
        "pairs to that dictionary"
      ],
      "metadata": {
        "id": "3m5twnI4uvEg"
      }
    },
    {
      "cell_type": "code",
      "source": [
        "dict123 = {'a':10,'b':20,'c':30,'d':40}\n",
        "print(dict123)\n",
        "\n",
        "Dict123.update( {'e' : 50} )\n",
        "\n",
        "print(dict123)\n",
        "\n",
        "# Adding multiple key value pairs\n",
        "dict123.update( [('f', 50),('g',60)] )\n",
        "\n",
        "print(dict123)"
      ],
      "metadata": {
        "colab": {
          "base_uri": "https://localhost:8080/"
        },
        "id": "H4kd55OWtXMP",
        "outputId": "8d00351c-144a-476f-cd5f-fed5ce0d823f"
      },
      "execution_count": 17,
      "outputs": [
        {
          "output_type": "stream",
          "name": "stdout",
          "text": [
            "{'a': 10, 'b': 20, 'c': 30, 'd': 40}\n",
            "{'a': 10, 'b': 20, 'c': 30, 'd': 40}\n",
            "{'a': 10, 'b': 20, 'c': 30, 'd': 40, 'f': 50, 'g': 60}\n"
          ]
        }
      ]
    },
    {
      "cell_type": "markdown",
      "source": [
        "Q6: create a dictionary and print all the keys() using print function"
      ],
      "metadata": {
        "id": "bI5zgyrZvsZr"
      }
    },
    {
      "cell_type": "code",
      "source": [
        "dict123 = {'a':10,'b':20,'c':30,'d':40}\n",
        "\n",
        "\n",
        "print(dict123.keys())\n"
      ],
      "metadata": {
        "colab": {
          "base_uri": "https://localhost:8080/"
        },
        "id": "un89TqfZvpmR",
        "outputId": "fbb24cad-6339-441b-d4bd-a38f847d3b30"
      },
      "execution_count": 19,
      "outputs": [
        {
          "output_type": "stream",
          "name": "stdout",
          "text": [
            "dict_keys(['a', 'b', 'c', 'd'])\n"
          ]
        }
      ]
    },
    {
      "cell_type": "markdown",
      "source": [
        "Q7:create a dictionary and print all the values"
      ],
      "metadata": {
        "id": "0HqSYkWjwOji"
      }
    },
    {
      "cell_type": "code",
      "source": [
        "d = {1: 10, 2: 20, 3: 30, 4: 40, 5: 50, 6: 60}\n",
        "\n",
        "print(d.values())"
      ],
      "metadata": {
        "colab": {
          "base_uri": "https://localhost:8080/"
        },
        "id": "mfEMgM33v4bK",
        "outputId": "38750a3e-0272-465a-ef09-28feba5575ef"
      },
      "execution_count": 20,
      "outputs": [
        {
          "output_type": "stream",
          "name": "stdout",
          "text": [
            "dict_values([10, 20, 30, 40, 50, 60])\n"
          ]
        }
      ]
    },
    {
      "cell_type": "markdown",
      "source": [
        "Q8: Create a dictionary where for one key multiple values are present\n",
        "Ex: {‘stdnames’ : [‘pravar’,’mahesh’,’prakash’]}\n",
        "Taking the above example create different dictionaries have number of keys and values\n",
        "present but each key belongs to number of values"
      ],
      "metadata": {
        "id": "9Xdcoaf-wjm1"
      }
    },
    {
      "cell_type": "code",
      "source": [
        "namesdict = {'StdNames': ['pravar','mahesh','prakash'],\n",
        "             'Age': [30, 10, 15]}\n",
        "print(namesdict)\n",
        "namesdict2 = {'StdFruitsNames': ['Mango','Apple','Banana'],\n",
        "             'Colour': ['yellow', 'Red', 'yellow']}\n",
        "print(namesdict2)\n"
      ],
      "metadata": {
        "colab": {
          "base_uri": "https://localhost:8080/"
        },
        "id": "-uzTkukBwffB",
        "outputId": "6efe78cc-2b95-46c4-b3d6-0835bc8d6e70"
      },
      "execution_count": 23,
      "outputs": [
        {
          "output_type": "stream",
          "name": "stdout",
          "text": [
            "{'StdNames': ['pravar', 'mahesh', 'prakash'], 'Age': [30, 10, 15]}\n",
            "{'StdFruitsNames': ['Mango', 'Apple', 'Banana'], 'Colour': ['yellow', 'Red', 'yellow']}\n"
          ]
        }
      ]
    },
    {
      "cell_type": "code",
      "source": [],
      "metadata": {
        "id": "SdblT6DIy3PT"
      },
      "execution_count": null,
      "outputs": []
    }
  ]
}