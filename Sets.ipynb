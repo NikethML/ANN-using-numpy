{
  "nbformat": 4,
  "nbformat_minor": 0,
  "metadata": {
    "colab": {
      "provenance": [],
      "authorship_tag": "ABX9TyOLoNRnQQG6z88x8SZIRfM2",
      "include_colab_link": true
    },
    "kernelspec": {
      "name": "python3",
      "display_name": "Python 3"
    },
    "language_info": {
      "name": "python"
    }
  },
  "cells": [
    {
      "cell_type": "markdown",
      "metadata": {
        "id": "view-in-github",
        "colab_type": "text"
      },
      "source": [
        "<a href=\"https://colab.research.google.com/github/NikethML/ANN-using-numpy/blob/master/Sets.ipynb\" target=\"_parent\"><img src=\"https://colab.research.google.com/assets/colab-badge.svg\" alt=\"Open In Colab\"/></a>"
      ]
    },
    {
      "cell_type": "markdown",
      "source": [
        "Q1:Write a Python program to create a set.\n"
      ],
      "metadata": {
        "id": "gC3C2C5ymB--"
      }
    },
    {
      "cell_type": "code",
      "execution_count": 1,
      "metadata": {
        "colab": {
          "base_uri": "https://localhost:8080/"
        },
        "id": "Wftkows7ld4V",
        "outputId": "bf9adc8c-3dfd-4aed-f4c9-d56dc023ab92"
      },
      "outputs": [
        {
          "output_type": "stream",
          "name": "stdout",
          "text": [
            "{1, 2, 3}\n",
            "{'Hello', 1.0, (1, 2, 3)}\n"
          ]
        }
      ],
      "source": [
        "se1 = {1, 2, 3}\n",
        "print(se1)\n",
        "\n",
        "# set of mixed datatypes\n",
        "set_mixed = {1.0, \"Hello\", (1, 2, 3)}\n",
        "print(set_mixed)"
      ]
    },
    {
      "cell_type": "markdown",
      "source": [
        "Q2:Write a Python program to iteration over sets."
      ],
      "metadata": {
        "id": "C0a9SIcMmEX9"
      }
    },
    {
      "cell_type": "code",
      "source": [
        "set1 = {\"apple\", \"banana\", \"Mango\"}\n",
        "\n",
        "for x in set1:\n",
        "  print(x)"
      ],
      "metadata": {
        "colab": {
          "base_uri": "https://localhost:8080/"
        },
        "id": "uktUDhSYlyeX",
        "outputId": "fa1e251b-9f77-46ba-b1a4-a533e111f399"
      },
      "execution_count": 2,
      "outputs": [
        {
          "output_type": "stream",
          "name": "stdout",
          "text": [
            "apple\n",
            "banana\n",
            "Mango\n"
          ]
        }
      ]
    },
    {
      "cell_type": "markdown",
      "source": [
        "Q3:Write a Python program to add a member(s) in a set."
      ],
      "metadata": {
        "id": "oQljNwYWmjSc"
      }
    },
    {
      "cell_type": "code",
      "source": [
        "name = {\"niketh\",\"Arjun\"}\n",
        "print(Name)\n",
        "name.add(\"Doug\")\n",
        "print(\"Add single element : \",'Anikesh')\n",
        "name.update([\"Anikesh\", \"Aniket\"])\n",
        "print(\"Add multiple items : \",name)"
      ],
      "metadata": {
        "colab": {
          "base_uri": "https://localhost:8080/"
        },
        "id": "GoWFadWjmioL",
        "outputId": "a906b71d-5897-410a-eb15-b414f9e91dba"
      },
      "execution_count": 6,
      "outputs": [
        {
          "output_type": "stream",
          "name": "stdout",
          "text": [
            "{'niketh', 'Arjun'}\n",
            "Add single element :  Anikesh\n",
            "Add multiple items :  {'Aniket', 'Arjun', 'Anikesh', 'Doug', 'niketh'}\n"
          ]
        }
      ]
    },
    {
      "cell_type": "code",
      "source": [],
      "metadata": {
        "id": "MIvJEUZQmgR4"
      },
      "execution_count": null,
      "outputs": []
    },
    {
      "cell_type": "markdown",
      "source": [
        "Q4:Write a Python program to remove item(s) from a given set."
      ],
      "metadata": {
        "id": "XxWYW7X5ngoc"
      }
    },
    {
      "cell_type": "code",
      "source": [
        "set123 = {\"apple\", \"banana\", \"mango\"}\n",
        "\n",
        "set123.remove(\"banana\")\n",
        "\n",
        "print(set123)"
      ],
      "metadata": {
        "colab": {
          "base_uri": "https://localhost:8080/"
        },
        "id": "GMAjzbEOnoSy",
        "outputId": "c1fc78b6-78f7-49f1-ffce-66249c9005f7"
      },
      "execution_count": 9,
      "outputs": [
        {
          "output_type": "stream",
          "name": "stdout",
          "text": [
            "{'apple', 'mango'}\n"
          ]
        }
      ]
    },
    {
      "cell_type": "markdown",
      "source": [
        "Q5:Write a Python program to remove an item from a set if it is present in the set"
      ],
      "metadata": {
        "id": "nk461nFhn4bO"
      }
    },
    {
      "cell_type": "code",
      "source": [
        "num_set = set([0, 1, 2, 3, 4, 5])\n",
        "print(num_set)\n",
        "num_set.discard(4)\n",
        "print(num_set)"
      ],
      "metadata": {
        "colab": {
          "base_uri": "https://localhost:8080/"
        },
        "id": "Zn_pSJ4hnuqM",
        "outputId": "768024fd-b419-43d8-9911-99de7c5eb04f"
      },
      "execution_count": 11,
      "outputs": [
        {
          "output_type": "stream",
          "name": "stdout",
          "text": [
            "{0, 1, 2, 3, 4, 5}\n",
            "{0, 1, 2, 3, 5}\n"
          ]
        }
      ]
    },
    {
      "cell_type": "markdown",
      "source": [
        "Q6:Write a Python program to find the maximum and the minimum value in a set."
      ],
      "metadata": {
        "id": "dBBiMjnWoMx9"
      }
    },
    {
      "cell_type": "code",
      "source": [
        "setnew = {5, 10, 3, 15, 2, 20}\n",
        "print(setnew)\n",
        "print(type(setnew))\n",
        "print(\"\\nMaximum value of the said set:\")\n",
        "print(max(setnew))\n",
        "print(\"\\nMinimum value of the said set:\")\n",
        "print(min(setnew))"
      ],
      "metadata": {
        "colab": {
          "base_uri": "https://localhost:8080/"
        },
        "id": "P3ASVhEroLi9",
        "outputId": "acb5acb1-6937-4a83-b856-ddc82c104fed"
      },
      "execution_count": 14,
      "outputs": [
        {
          "output_type": "stream",
          "name": "stdout",
          "text": [
            "{2, 3, 5, 10, 15, 20}\n",
            "<class 'set'>\n",
            "\n",
            "Maximum value of the said set:\n",
            "20\n",
            "\n",
            "Minimum value of the said set:\n",
            "2\n"
          ]
        }
      ]
    },
    {
      "cell_type": "markdown",
      "source": [
        "Q7:Write a Python program to find the length of a set."
      ],
      "metadata": {
        "id": "QuuNwfYrpnam"
      }
    },
    {
      "cell_type": "code",
      "source": [
        "setabc = {'a', 'b', 'c'}\n",
        "length = len(setabc)\n",
        "print(f'Length of this set is {length}')"
      ],
      "metadata": {
        "colab": {
          "base_uri": "https://localhost:8080/"
        },
        "id": "jYUcaKmmpm9j",
        "outputId": "8336121e-3026-4803-b4ab-51ef0136f534"
      },
      "execution_count": 17,
      "outputs": [
        {
          "output_type": "stream",
          "name": "stdout",
          "text": [
            "Length of this set is 3\n"
          ]
        }
      ]
    },
    {
      "cell_type": "markdown",
      "source": [
        "Q8:Write a Python program to check if a given value is present in a set or not.\n",
        "\n"
      ],
      "metadata": {
        "id": "DTNJN5wPp_ow"
      }
    },
    {
      "cell_type": "code",
      "source": [
        "numbers = {1, 3, 5, 7, 9, 11,13,4,78,90}\n",
        "print(\"Original set: \",numbers,\"\\n\")\n",
        "print(\"Test if 78 exists in nums:\")\n",
        "print(6 in nums)\n"
      ],
      "metadata": {
        "colab": {
          "base_uri": "https://localhost:8080/"
        },
        "id": "1_2q46drpjtM",
        "outputId": "e6508ba4-4b42-48fe-cdaf-22e9fc72a2ba"
      },
      "execution_count": 21,
      "outputs": [
        {
          "output_type": "stream",
          "name": "stdout",
          "text": [
            "Original set:  {1, 3, 4, 5, 7, 9, 11, 13, 78, 90} \n",
            "\n",
            "Test if 78 exists in nums:\n",
            "False\n"
          ]
        }
      ]
    },
    {
      "cell_type": "code",
      "source": [],
      "metadata": {
        "id": "esuavYEUoG8Q"
      },
      "execution_count": null,
      "outputs": []
    }
  ]
}